{
  "nbformat": 4,
  "nbformat_minor": 0,
  "metadata": {
    "colab": {
      "provenance": []
    },
    "kernelspec": {
      "name": "python3",
      "display_name": "Python 3"
    },
    "language_info": {
      "name": "python"
    },
    "accelerator": "GPU",
    "gpuClass": "standard"
  },
  "cells": [
    {
      "cell_type": "code",
      "source": [
        "from google.colab import drive\n",
        "drive.mount('/content/drive')"
      ],
      "metadata": {
        "colab": {
          "base_uri": "https://localhost:8080/"
        },
        "id": "epqTtHlc_ArH",
        "outputId": "5f164928-65a0-46ef-ab3f-b2454a5d95f6"
      },
      "execution_count": 1,
      "outputs": [
        {
          "output_type": "stream",
          "name": "stdout",
          "text": [
            "Mounted at /content/drive\n"
          ]
        }
      ]
    },
    {
      "cell_type": "code",
      "execution_count": 48,
      "metadata": {
        "id": "FwRA7N0c-3as"
      },
      "outputs": [],
      "source": [
        "from keras.datasets import mnist\n",
        "from keras.models import Sequential\n",
        "from keras.layers import Dense, LSTM\n",
        "from keras.utils import np_utils\n",
        "import numpy as np\n",
        "\n",
        "# Load bộ dữ liệu MNIST\n",
        "(X_train, y_train), (X_test, y_test) = mnist.load_data()"
      ]
    },
    {
      "cell_type": "code",
      "source": [
        "X_train = X_train.reshape(-1, 28 * 28)\n",
        "X_test = X_test.reshape(-1, 28 * 28)"
      ],
      "metadata": {
        "id": "FI-NsZZLAiNL"
      },
      "execution_count": 49,
      "outputs": []
    },
    {
      "cell_type": "code",
      "source": [
        "y_train = y_train.reshape(-1, 1)\n",
        "y_test = y_test.reshape(-1, 1)"
      ],
      "metadata": {
        "id": "L2ex7jHyBaxF"
      },
      "execution_count": 50,
      "outputs": []
    },
    {
      "cell_type": "code",
      "source": [
        "train_concat = np.concatenate((X_train, y_train), axis=1)\n",
        "test_concat = np.concatenate((X_test, y_test), axis=1)\n",
        "\n",
        "\n",
        "train_sort_idx = np.argsort(train_concat[:, -1])\n",
        "train_sort = train_concat[train_sort_idx]\n",
        "\n",
        "test_sort_idx = np.argsort(test_concat[:, -1])\n",
        "test_sort = train_concat[test_sort_idx]"
      ],
      "metadata": {
        "id": "DEAt6Qvr_wfi"
      },
      "execution_count": 51,
      "outputs": []
    },
    {
      "cell_type": "code",
      "source": [
        "# Tiền xử lý dữ liệu\n",
        "X_train = train_sort[:, :-1]\n",
        "X_train = X_train.reshape(X_train.shape[0], 28, 28)\n",
        "y_train = train_sort[:, -1]\n",
        "\n",
        "X_test = test_sort[:, :-1]\n",
        "X_test = X_test.reshape(X_test.shape[0], 28, 28)\n",
        "y_test = test_sort[:, -1]\n",
        "\n",
        "X_train = X_train.astype('float32') / 255\n",
        "X_test = X_test.astype('float32') / 255"
      ],
      "metadata": {
        "id": "PsUBYrFX_TLg"
      },
      "execution_count": 52,
      "outputs": []
    },
    {
      "cell_type": "code",
      "source": [
        "# Chuyển đổi nhãn thành one-hot encoding\n",
        "y_train = np_utils.to_categorical(y_train)\n",
        "y_test = np_utils.to_categorical(y_test)\n",
        "num_classes = y_test.shape[1]\n",
        "\n",
        "# Xây dựng mô hình RNN\n",
        "model = Sequential()\n",
        "model.add(LSTM(128, input_shape=(28, 28), return_sequences=True))\n",
        "model.add(LSTM(64))\n",
        "model.add(Dense(num_classes, activation='softmax'))\n",
        "\n",
        "# Biên dịch mô hình\n",
        "model.compile(loss='categorical_crossentropy', optimizer='adam', metrics=['accuracy'])\n",
        "\n",
        "# Huấn luyện mô hình\n",
        "model.fit(X_train, y_train, validation_data=(X_test, y_test), epochs=10, batch_size=64)\n",
        "\n",
        "# Đánh giá mô hình trên tập kiểm tra\n",
        "scores = model.evaluate(X_test, y_test, verbose=0)\n",
        "print(\"Accuracy: %.2f%%\" % (scores[1]*100))"
      ],
      "metadata": {
        "colab": {
          "base_uri": "https://localhost:8080/"
        },
        "id": "6j5MbGIr_GhK",
        "outputId": "5dd7fe9c-9dc4-4f26-884e-62ab5d59732b"
      },
      "execution_count": 54,
      "outputs": [
        {
          "output_type": "stream",
          "name": "stdout",
          "text": [
            "Epoch 1/10\n",
            "938/938 [==============================] - 15s 11ms/step - loss: 0.3951 - accuracy: 0.8735 - val_loss: 0.1235 - val_accuracy: 0.9647\n",
            "Epoch 2/10\n",
            "938/938 [==============================] - 11s 12ms/step - loss: 0.1096 - accuracy: 0.9669 - val_loss: 0.0894 - val_accuracy: 0.9732\n",
            "Epoch 3/10\n",
            "938/938 [==============================] - 9s 9ms/step - loss: 0.0738 - accuracy: 0.9778 - val_loss: 0.0493 - val_accuracy: 0.9852\n",
            "Epoch 4/10\n",
            "938/938 [==============================] - 10s 10ms/step - loss: 0.0562 - accuracy: 0.9831 - val_loss: 0.0421 - val_accuracy: 0.9873\n",
            "Epoch 5/10\n",
            "938/938 [==============================] - 11s 11ms/step - loss: 0.0460 - accuracy: 0.9858 - val_loss: 0.0328 - val_accuracy: 0.9900\n",
            "Epoch 6/10\n",
            "938/938 [==============================] - 9s 9ms/step - loss: 0.0371 - accuracy: 0.9885 - val_loss: 0.0285 - val_accuracy: 0.9902\n",
            "Epoch 7/10\n",
            "938/938 [==============================] - 10s 10ms/step - loss: 0.0322 - accuracy: 0.9901 - val_loss: 0.0287 - val_accuracy: 0.9913\n",
            "Epoch 8/10\n",
            "938/938 [==============================] - 9s 9ms/step - loss: 0.0282 - accuracy: 0.9911 - val_loss: 0.0253 - val_accuracy: 0.9909\n",
            "Epoch 9/10\n",
            "938/938 [==============================] - 9s 10ms/step - loss: 0.0224 - accuracy: 0.9932 - val_loss: 0.0222 - val_accuracy: 0.9928\n",
            "Epoch 10/10\n",
            "938/938 [==============================] - 10s 10ms/step - loss: 0.0238 - accuracy: 0.9923 - val_loss: 0.0167 - val_accuracy: 0.9953\n",
            "Accuracy: 99.53%\n"
          ]
        }
      ]
    },
    {
      "cell_type": "code",
      "source": [
        "from sklearn.metrics import confusion_matrix, classification_report\n",
        "from sklearn.metrics import hamming_loss, jaccard_score, f1_score\n",
        "\n",
        "# Tính toán hamming loss\n",
        "y_true = y_test\n",
        "y_true = np.argmax(y_true, axis = 1)\n",
        "\n",
        "y_pred = model.predict(X_test)\n",
        "y_pred = np.argmax(y_pred, axis = 1)"
      ],
      "metadata": {
        "colab": {
          "base_uri": "https://localhost:8080/"
        },
        "id": "WhLLKHAHFkZm",
        "outputId": "097ece0c-c150-4ef7-8f97-56249dcdf7fc"
      },
      "execution_count": 55,
      "outputs": [
        {
          "output_type": "stream",
          "name": "stdout",
          "text": [
            "313/313 [==============================] - 2s 4ms/step\n"
          ]
        }
      ]
    },
    {
      "cell_type": "code",
      "source": [
        "# CONFUSION MATRIX\n",
        "cm = confusion_matrix(y_true, y_pred)\n",
        "print(cm)"
      ],
      "metadata": {
        "colab": {
          "base_uri": "https://localhost:8080/"
        },
        "id": "USIXBFg_IXag",
        "outputId": "6d957ecb-40fc-41db-b765-22c7ae6158b1"
      },
      "execution_count": 56,
      "outputs": [
        {
          "output_type": "stream",
          "name": "stdout",
          "text": [
            "[[ 999    0    0    0    0    1    1    0    0    0]\n",
            " [   0 1123    1    0    0    0    0    3    0    0]\n",
            " [   0    2  986    3    0    0    0    0    0    0]\n",
            " [   0    0    1 1025    0    2    0    2    1    1]\n",
            " [   2    0    0    0  969    0    2    0    0    7]\n",
            " [   0    0    1    0    0  861    0    0    0    1]\n",
            " [   0    0    0    0    0    3 1011    0    0    0]\n",
            " [   0    1    2    0    0    0    0 1066    0    1]\n",
            " [   0    2    0    1    0    1    0    1  938    1]\n",
            " [   0    0    0    1    1    0    0    1    0  975]]\n"
          ]
        }
      ]
    },
    {
      "cell_type": "code",
      "source": [
        "# Tính toán classification report\n",
        "target_names = ['0', '1', '2', '3', '4', '5', '6', '7', '8', '9']\n",
        "cr = classification_report(y_true, y_pred, target_names=target_names)\n",
        "print(cr)"
      ],
      "metadata": {
        "colab": {
          "base_uri": "https://localhost:8080/"
        },
        "id": "KTqa5xJ1Ge8t",
        "outputId": "524691cc-408a-4294-8c9d-e720c88488b4"
      },
      "execution_count": 57,
      "outputs": [
        {
          "output_type": "stream",
          "name": "stdout",
          "text": [
            "              precision    recall  f1-score   support\n",
            "\n",
            "           0       1.00      1.00      1.00      1001\n",
            "           1       1.00      1.00      1.00      1127\n",
            "           2       0.99      0.99      0.99       991\n",
            "           3       1.00      0.99      0.99      1032\n",
            "           4       1.00      0.99      0.99       980\n",
            "           5       0.99      1.00      0.99       863\n",
            "           6       1.00      1.00      1.00      1014\n",
            "           7       0.99      1.00      0.99      1070\n",
            "           8       1.00      0.99      1.00       944\n",
            "           9       0.99      1.00      0.99       978\n",
            "\n",
            "    accuracy                           1.00     10000\n",
            "   macro avg       1.00      1.00      1.00     10000\n",
            "weighted avg       1.00      1.00      1.00     10000\n",
            "\n"
          ]
        }
      ]
    },
    {
      "cell_type": "code",
      "source": [
        "%cd /content/drive/MyDrive\n",
        "\n",
        "from tensorflow.keras.models import load_model, save_model\n",
        "\n",
        "save_model(model, 'model.h5')"
      ],
      "metadata": {
        "colab": {
          "base_uri": "https://localhost:8080/"
        },
        "id": "nq8_pK2dGxRT",
        "outputId": "bcf97069-8e7d-4398-add5-21f2a6cc7d06"
      },
      "execution_count": 58,
      "outputs": [
        {
          "output_type": "stream",
          "name": "stdout",
          "text": [
            "/content/drive/MyDrive\n"
          ]
        }
      ]
    }
  ]
}